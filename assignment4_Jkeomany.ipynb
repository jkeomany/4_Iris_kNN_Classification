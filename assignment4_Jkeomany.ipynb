{
 "cells": [
  {
   "cell_type": "markdown",
   "metadata": {},
   "source": [
    "Before you turn this problem in, make sure everything runs as expected. First, **restart the kernel** (in the menu bar, select Kernel$\\rightarrow$Restart) and then **run all cells** (in the menu bar, select Cell$\\rightarrow$Run All).\n",
    "\n",
    "\n",
    "Below, please fill in your name and collaborators, if any:"
   ]
  },
  {
   "cell_type": "code",
   "execution_count": 1,
   "metadata": {},
   "outputs": [],
   "source": [
    "NAME = \"Jeffrey Keomany\"\n",
    "COLLABORATORS = \"\""
   ]
  },
  {
   "cell_type": "markdown",
   "metadata": {},
   "source": [
    "# Assignment 4 - Classification"
   ]
  },
  {
   "cell_type": "markdown",
   "metadata": {},
   "source": [
    "In this assignment, you will practice using the kNN (k-Nearest Neighbors) algorithm to solve a classification problem.\n",
    "The kNN is a simple and robust classifier, which is used in different applications.\n",
    "\n",
    "We will use the Iris dataset for this assignment.\n",
    "The dataset was first introduced by statistician R. Fisher and consists of 50 observations from each of three species Iris (_Iris setosa_, _Iris virginica_ and _Iris versicolor_). For each sample, 4 features are given: the sepal length and width, and the petal length and width.\n",
    "\n",
    "The goal is to train kNN algorithm to distinguish the species from one another."
   ]
  },
  {
   "cell_type": "markdown",
   "metadata": {},
   "source": [
    "1. The dataset can be downloaded from UCI Machine Learning Repository: https://archive.ics.uci.edu/ml/machine-learning-databases/iris/.\n",
    "\n",
    "2. Download `iris.data` file from the Data Folder. The Data Set description with the definitions of all the columns can be found on the dataset page - https://archive.ics.uci.edu/ml/datasets/Iris. Alternatively, you can import the data using sklearn.datasets. You will need to dowload both the sepal/petal data and the target variable information, then merge the two datasets.\n",
    "\n",
    "3. _(1 points)_ Load the data from the file (`iris.data`) into the DataFrame. Set the names of columns according to the column definitions given in Data Description.\n",
    "\n",
    "4. _(2 points)_ **Data inspection.** \n",
    "    - Display the first 5 rows of the dataset and use any relevant functions that can help you to understand the data.\n",
    "    - Prepare 2 scatter plots - `sepal_width` vs `sepal_length` and `petal_width` vs `petal_length`. Scatter plots should show each class in different color (`seaborn.lmplot` is recommended for plotting). \n",
    "\n",
    "5. _(2 points)_ **Prepare the data for classification**. \n",
    "    - Using the pandas operators prepare the feature variables `X` and the response `Y` for the fit. Note that `sklean` expects data as arrays, so convert extracted columns into arrays.\n",
    "\n",
    "6. _(1 point)_ **Split** the data into `train` and `test` using `sklearn` `train_test_split` function.\n",
    "\n",
    "7. _(2 points)_ **Run the fit** using `KNeighborsClassifier` from `sklearn.neighbors`. \n",
    "    - First, instantiate the model,\n",
    "    - Then, run the classifier on the training set.\n",
    "\n",
    "8. _(3 points)_ Use learning model to **predict the class from features**, run prediction on `X` from test part. \n",
    "    - Show the **accuracy score** of the prediction by comparing predicted iris classes and the `Y` values from the test.\n",
    "    - Comparing these two arrays (predicted classes and test `Y`), count the numbers of correct predictions and predictions that were wrong. (**HINTS:** `NumPy` arrays can be compared using `==` operator. You can also use `NumPy`'s operator `count_nonzero` to count number of non-False values).\n",
    "\n",
    "9. _(4 points)_ In this task, we want to see how accuracy score and the number of correct predictions change with the number of neighbors `k`. We will use the following **number of neighbors `k`: 1, 3, 5, 7, 10, 20, 30, 40, and 50**:\n",
    "    - Generate 10 random train/test splits for each value of `k`\n",
    "    - Fit the model for each split and generate predictions\n",
    "    - Average the accuracy score for each `k`\n",
    "    - Calculate the average number of correct predictions for each `k` as well\n",
    "    - Plot the accuracy score for different values of `k`. What conclusion can you make based on the graph?\n"
   ]
  },
  {
   "cell_type": "code",
   "execution_count": 2,
   "metadata": {},
   "outputs": [],
   "source": [
    "# Here are all imports that you will need\n",
    "\n",
    "import pandas as pd\n",
    "import matplotlib.pyplot as plt\n",
    "import seaborn as sns\n",
    "%matplotlib inline\n",
    "import numpy as np\n",
    "from sklearn.model_selection import train_test_split\n",
    "from sklearn.neighbors import KNeighborsClassifier"
   ]
  },
  {
   "cell_type": "code",
   "execution_count": 3,
   "metadata": {},
   "outputs": [
    {
     "data": {
      "text/html": [
       "<div>\n",
       "<style scoped>\n",
       "    .dataframe tbody tr th:only-of-type {\n",
       "        vertical-align: middle;\n",
       "    }\n",
       "\n",
       "    .dataframe tbody tr th {\n",
       "        vertical-align: top;\n",
       "    }\n",
       "\n",
       "    .dataframe thead th {\n",
       "        text-align: right;\n",
       "    }\n",
       "</style>\n",
       "<table border=\"1\" class=\"dataframe\">\n",
       "  <thead>\n",
       "    <tr style=\"text-align: right;\">\n",
       "      <th></th>\n",
       "      <th>Iris Class</th>\n",
       "      <th>Sepal Length</th>\n",
       "      <th>Sepal Width</th>\n",
       "      <th>Petal Length</th>\n",
       "      <th>Petal Width</th>\n",
       "    </tr>\n",
       "  </thead>\n",
       "  <tbody>\n",
       "    <tr>\n",
       "      <th>0</th>\n",
       "      <td>0</td>\n",
       "      <td>5.1</td>\n",
       "      <td>3.5</td>\n",
       "      <td>1.4</td>\n",
       "      <td>0.2</td>\n",
       "    </tr>\n",
       "    <tr>\n",
       "      <th>1</th>\n",
       "      <td>0</td>\n",
       "      <td>4.9</td>\n",
       "      <td>3.0</td>\n",
       "      <td>1.4</td>\n",
       "      <td>0.2</td>\n",
       "    </tr>\n",
       "    <tr>\n",
       "      <th>2</th>\n",
       "      <td>0</td>\n",
       "      <td>4.7</td>\n",
       "      <td>3.2</td>\n",
       "      <td>1.3</td>\n",
       "      <td>0.2</td>\n",
       "    </tr>\n",
       "    <tr>\n",
       "      <th>3</th>\n",
       "      <td>0</td>\n",
       "      <td>4.6</td>\n",
       "      <td>3.1</td>\n",
       "      <td>1.5</td>\n",
       "      <td>0.2</td>\n",
       "    </tr>\n",
       "    <tr>\n",
       "      <th>4</th>\n",
       "      <td>0</td>\n",
       "      <td>5.0</td>\n",
       "      <td>3.6</td>\n",
       "      <td>1.4</td>\n",
       "      <td>0.2</td>\n",
       "    </tr>\n",
       "    <tr>\n",
       "      <th>...</th>\n",
       "      <td>...</td>\n",
       "      <td>...</td>\n",
       "      <td>...</td>\n",
       "      <td>...</td>\n",
       "      <td>...</td>\n",
       "    </tr>\n",
       "    <tr>\n",
       "      <th>145</th>\n",
       "      <td>2</td>\n",
       "      <td>6.7</td>\n",
       "      <td>3.0</td>\n",
       "      <td>5.2</td>\n",
       "      <td>2.3</td>\n",
       "    </tr>\n",
       "    <tr>\n",
       "      <th>146</th>\n",
       "      <td>2</td>\n",
       "      <td>6.3</td>\n",
       "      <td>2.5</td>\n",
       "      <td>5.0</td>\n",
       "      <td>1.9</td>\n",
       "    </tr>\n",
       "    <tr>\n",
       "      <th>147</th>\n",
       "      <td>2</td>\n",
       "      <td>6.5</td>\n",
       "      <td>3.0</td>\n",
       "      <td>5.2</td>\n",
       "      <td>2.0</td>\n",
       "    </tr>\n",
       "    <tr>\n",
       "      <th>148</th>\n",
       "      <td>2</td>\n",
       "      <td>6.2</td>\n",
       "      <td>3.4</td>\n",
       "      <td>5.4</td>\n",
       "      <td>2.3</td>\n",
       "    </tr>\n",
       "    <tr>\n",
       "      <th>149</th>\n",
       "      <td>2</td>\n",
       "      <td>5.9</td>\n",
       "      <td>3.0</td>\n",
       "      <td>5.1</td>\n",
       "      <td>1.8</td>\n",
       "    </tr>\n",
       "  </tbody>\n",
       "</table>\n",
       "<p>150 rows × 5 columns</p>\n",
       "</div>"
      ],
      "text/plain": [
       "     Iris Class  Sepal Length  Sepal Width  Petal Length  Petal Width\n",
       "0             0           5.1          3.5           1.4          0.2\n",
       "1             0           4.9          3.0           1.4          0.2\n",
       "2             0           4.7          3.2           1.3          0.2\n",
       "3             0           4.6          3.1           1.5          0.2\n",
       "4             0           5.0          3.6           1.4          0.2\n",
       "..          ...           ...          ...           ...          ...\n",
       "145           2           6.7          3.0           5.2          2.3\n",
       "146           2           6.3          2.5           5.0          1.9\n",
       "147           2           6.5          3.0           5.2          2.0\n",
       "148           2           6.2          3.4           5.4          2.3\n",
       "149           2           5.9          3.0           5.1          1.8\n",
       "\n",
       "[150 rows x 5 columns]"
      ]
     },
     "execution_count": 3,
     "metadata": {},
     "output_type": "execute_result"
    }
   ],
   "source": [
    "# Question 3\n",
    "# Data download from sklearn\n",
    "from sklearn.datasets import load_iris\n",
    "data=load_iris().data\n",
    "target=load_iris().target\n",
    "df_data=pd.DataFrame(data,columns=['Sepal Length','Sepal Width','Petal Length','Petal Width'])\n",
    "df_target=pd.DataFrame(target,columns=['Iris Class'])\n",
    "\n",
    "# Remember to merge the DataFrames into one after they are created.\n",
    "\n",
    "join = [df_target, df_data]\n",
    "flowers = pd.concat(join, axis = 1)\n",
    "flowers"
   ]
  },
  {
   "cell_type": "code",
   "execution_count": 4,
   "metadata": {},
   "outputs": [
    {
     "name": "stdout",
     "output_type": "stream",
     "text": [
      "    Iris Class  Sepal Length  Sepal Width  Petal Length  Petal Width\n",
      "0  Iris Setosa           5.1          3.5           1.4          0.2\n",
      "1  Iris Setosa           4.9          3.0           1.4          0.2\n",
      "2  Iris Setosa           4.7          3.2           1.3          0.2\n",
      "3  Iris Setosa           4.6          3.1           1.5          0.2\n",
      "4  Iris Setosa           5.0          3.6           1.4          0.2\n",
      "False\n",
      "(150, 5)\n"
     ]
    }
   ],
   "source": [
    "# Question 4 - Data inspection\n",
    "\n",
    "# Changes the Iris Class to their names to make it easier to understand\n",
    "flowers['Iris Class'] = flowers['Iris Class'].replace([0, 1, 2], ['Iris Setosa', 'Iris Versicolour', 'Iris Virginica'])\n",
    "\n",
    "print(flowers.head(5)) # Shows the first 5 rows of the dataset\n",
    "\n",
    "print(flowers.isnull().values.any()) # No null vlaues in dataset\n",
    "\n",
    "print(flowers.shape) # Size of dataset\n"
   ]
  },
  {
   "cell_type": "code",
   "execution_count": 5,
   "metadata": {},
   "outputs": [
    {
     "data": {
      "image/png": "[encoded data removed]",
      "text/plain": [
       "<Figure size 469.625x360 with 1 Axes>"
      ]
     },
     "metadata": {
      "needs_background": "light"
     },
     "output_type": "display_data"
    }
   ],
   "source": [
    "# Plot of Sepal Width vs Sepal Length\n",
    "sepal = sns.lmplot(data = flowers, x = 'Sepal Length', y = 'Sepal Width', hue = 'Iris Class')\n",
    "sepal.set(title='Sepal Width vs Sepal Length')\n",
    "\n",
    "plt.grid()\n",
    "plt.show()"
   ]
  },
  {
   "cell_type": "code",
   "execution_count": 6,
   "metadata": {},
   "outputs": [
    {
     "data": {
      "image/png": "[encoded data removed]",
      "text/plain": [
       "<Figure size 469.625x360 with 1 Axes>"
      ]
     },
     "metadata": {
      "needs_background": "light"
     },
     "output_type": "display_data"
    }
   ],
   "source": [
    "# Plot of Petal Width vs Petal Length\n",
    "petal = sns.lmplot(data = flowers, x = 'Petal Length', y = 'Petal Width', hue = 'Iris Class')\n",
    "petal.set(title='Petal Width vs Petal Length')\n",
    "\n",
    "plt.grid()\n",
    "plt.show()"
   ]
  },
  {
   "cell_type": "code",
   "execution_count": 7,
   "metadata": {},
   "outputs": [],
   "source": [
    "# Question 5 - Prepare the data for classification. \n",
    "\n",
    "\n",
    "X = data # Use array without my Iris Class\n",
    "Y = target # Use target array created earlier"
   ]
  },
  {
   "cell_type": "code",
   "execution_count": 8,
   "metadata": {},
   "outputs": [],
   "source": [
    "sw = flowers['Sepal Width']\n",
    "sl = flowers['Sepal Length']\n",
    "pw = flowers['Petal Width']\n",
    "pl = flowers['Petal Length']\n"
   ]
  },
  {
   "cell_type": "code",
   "execution_count": 9,
   "metadata": {},
   "outputs": [
    {
     "name": "stdout",
     "output_type": "stream",
     "text": [
      "(120, 4)\n",
      "(30, 4)\n"
     ]
    }
   ],
   "source": [
    "# Question 6 - Split the Data\n",
    "\n",
    "X_train, X_test, Y_train, Y_test = train_test_split(X, Y, test_size = 0.2)\n",
    "\n",
    "# Data split into train and test\n",
    "print(X_train.shape)\n",
    "print(X_test.shape)"
   ]
  },
  {
   "cell_type": "code",
   "execution_count": 10,
   "metadata": {},
   "outputs": [
    {
     "data": {
      "text/plain": [
       "KNeighborsClassifier(n_neighbors=10)"
      ]
     },
     "execution_count": 10,
     "metadata": {},
     "output_type": "execute_result"
    }
   ],
   "source": [
    "# Question 7 - Run the Fit\n",
    "\n",
    "knn = KNeighborsClassifier(n_neighbors=10)\n",
    "knn.fit(X_train, Y_train)"
   ]
  },
  {
   "cell_type": "code",
   "execution_count": 11,
   "metadata": {},
   "outputs": [
    {
     "name": "stdout",
     "output_type": "stream",
     "text": [
      "[1 0 2 1 0 1 0 2 2 1 1 0 1 1 1 2 2 0 0 2 0 2 1 0 0 0 2 2 1 0]\n"
     ]
    }
   ],
   "source": [
    "# Question 8 - Predict the class from features\n",
    "\n",
    "Y_predict = knn.predict(X_test)\n",
    "print(Y_predict) # makes an estimate of X_test's Iris class"
   ]
  },
  {
   "cell_type": "code",
   "execution_count": 12,
   "metadata": {},
   "outputs": [
    {
     "name": "stdout",
     "output_type": "stream",
     "text": [
      "0.9666666666666667\n"
     ]
    }
   ],
   "source": [
    "print(knn.score(X_test, Y_test)) # Is the accuracy score of the prediction"
   ]
  },
  {
   "cell_type": "code",
   "execution_count": 13,
   "metadata": {},
   "outputs": [
    {
     "name": "stdout",
     "output_type": "stream",
     "text": [
      "[1 0 2 2 0 1 0 2 2 1 1 0 1 1 1 2 2 0 0 2 0 2 1 0 0 0 2 2 1 0]\n"
     ]
    }
   ],
   "source": [
    "print(Y_test) # Is the actual Iris class of the X_test's"
   ]
  },
  {
   "cell_type": "code",
   "execution_count": 14,
   "metadata": {},
   "outputs": [
    {
     "name": "stdout",
     "output_type": "stream",
     "text": [
      "29 right predictions\n",
      "1 wrong prediction\n"
     ]
    }
   ],
   "source": [
    "errors = Y_predict == Y_test\n",
    "\n",
    "right_predict = np.count_nonzero(errors)\n",
    "wrong_predict = len(Y_predict) - right_predict\n",
    "\n",
    "# Prints the correct spelling of predictions\n",
    "if right_predict != 1:\n",
    "    print(right_predict, 'right predictions')\n",
    "else: \n",
    "    print(right_predict, 'right prediction')\n",
    "    \n",
    "if wrong_predict != 1:\n",
    "    print(wrong_predict, 'wrong predictions')\n",
    "else: \n",
    "    print(wrong_predict, 'wrong prediction')    "
   ]
  },
  {
   "cell_type": "code",
   "execution_count": 15,
   "metadata": {},
   "outputs": [
    {
     "name": "stdout",
     "output_type": "stream",
     "text": [
      "(90,)\n",
      "(90, 15)\n",
      "(90, 15)\n",
      "(135, 4)\n",
      "(15, 4)\n"
     ]
    }
   ],
   "source": [
    "# Question 9 - test with k: 1, 3, 5, 7, 10, 20, 30, 40, and 50\n",
    "import sys\n",
    "np.set_printoptions(threshold=sys.maxsize)\n",
    "\n",
    "'''Generate 10 random train/test splits for each value of k\n",
    "Fit the model for each split and generate predictions\n",
    "Average the accuracy score for each k\n",
    "Calculate the average number of correct predictions for each k as well\n",
    "Plot the accuracy score for different values of k. What conclusion can you make based on the graph?'''\n",
    "\n",
    "k = [1, 3, 5, 7, 10, 20, 30, 40, 50]\n",
    "\n",
    "from sklearn.model_selection import StratifiedKFold\n",
    "skf = StratifiedKFold(n_splits = 10)\n",
    "skf.get_n_splits(X, Y) # Number of splitting iterations\n",
    "\n",
    "\n",
    "# Creates the 10 random train/test splits for each value of k\n",
    "score = []\n",
    "Y_predict = []\n",
    "Y_actual = []\n",
    "\n",
    "# q is the index along k\n",
    "for q in k:\n",
    "    for train_index, test_index in skf.split(X, Y):\n",
    "        X_train, X_test = X[train_index], X[test_index]\n",
    "        Y_train, Y_test = Y[train_index], Y[test_index]\n",
    "\n",
    "        knn = KNeighborsClassifier(n_neighbors=q)\n",
    "        knn.fit(X_train, Y_train) # Runs the Fit\n",
    "        Y_predict.append(knn.predict(X_test))\n",
    "        Y_actual.append(Y_test)\n",
    "        score.append(knn.score(X_test, Y_test))\n",
    "\n",
    "score_array = np.array(score)\n",
    "Y_predict_array = np.array(Y_predict)\n",
    "Y_actual_array = np.array(Y_actual)\n",
    "print(score_array.shape)\n",
    "print(Y_predict_array.shape)\n",
    "print(Y_actual_array.shape)\n",
    "print(X_train.shape)\n",
    "print(X_test.shape)"
   ]
  },
  {
   "cell_type": "code",
   "execution_count": 16,
   "metadata": {},
   "outputs": [
    {
     "name": "stdout",
     "output_type": "stream",
     "text": [
      "{1: 0.96, 3: 0.967, 5: 0.967, 7: 0.967, 10: 0.967, 20: 0.98, 30: 0.953, 40: 0.953, 50: 0.927}\n"
     ]
    }
   ],
   "source": [
    "# Calculates the average accuracy score for each k value\n",
    "# takes the average score every 10 numbers\n",
    "avg_score = np.average(score_array.reshape(-1, 10), axis = 1)\n",
    "avg_score = np.round(avg_score, 3)\n",
    "\n",
    "# Creates a dictionary to see the each k value accuracy scores\n",
    "print(dict(zip(k, avg_score)))"
   ]
  },
  {
   "cell_type": "code",
   "execution_count": 17,
   "metadata": {},
   "outputs": [
    {
     "name": "stdout",
     "output_type": "stream",
     "text": [
      "{1: 14.4, 3: 14.5, 5: 14.5, 7: 14.5, 10: 14.5, 20: 14.7, 30: 14.3, 40: 14.3, 50: 13.9}\n"
     ]
    }
   ],
   "source": [
    "# Counts the number of correct predictions for each k value\n",
    "# Sums the correct predictions for every split sample\n",
    "array_check = Y_predict == Y_test\n",
    "prediction = np.sum(array_check, axis = 1)\n",
    "\n",
    "# Takes the average score every 10 numbers\n",
    "count = np.average(prediction.reshape(-1, 10), axis = 1)\n",
    "count = np.round(count, 3)\n",
    "print(dict(zip(k, count)))"
   ]
  },
  {
   "cell_type": "code",
   "execution_count": 18,
   "metadata": {},
   "outputs": [
    {
     "data": {
      "text/plain": [
       "<function matplotlib.pyplot.show(close=None, block=None)>"
      ]
     },
     "execution_count": 18,
     "metadata": {},
     "output_type": "execute_result"
    },
    {
     "data": {
      "image/png": "[encoded data removed]",
      "text/plain": [
       "<Figure size 432x288 with 1 Axes>"
      ]
     },
     "metadata": {
      "needs_background": "light"
     },
     "output_type": "display_data"
    }
   ],
   "source": [
    "# Plot accuracy based on k\n",
    "plt.plot(k,avg_score)\n",
    "plt.title(\"Accuracy of K-Nearest Neighbors varying K\")\n",
    "plt.ylabel(\"Accuracy (%)\")\n",
    "plt.xlabel(\"K\")\n",
    "plt.show\n",
    "\n",
    "# From the graph I can see that for this dataset, KNN is most accurate around 20 nearest neighbors (k).\n",
    "# 1 - 20 nearest neighbors is most accurate and after, more k values decrease the accuracy of KNN."
   ]
  }
 ],
 "metadata": {
  "kernelspec": {
   "display_name": "Python 3 (ipykernel)",
   "language": "python",
   "name": "python3"
  },
  "language_info": {
   "codemirror_mode": {
    "name": "ipython",
    "version": 3
   },
   "file_extension": ".py",
   "mimetype": "text/x-python",
   "name": "python",
   "nbconvert_exporter": "python",
   "pygments_lexer": "ipython3",
   "version": "3.9.12"
  },
  "toc": {
   "base_numbering": 1,
   "nav_menu": {},
   "number_sections": true,
   "sideBar": true,
   "skip_h1_title": true,
   "title_cell": "Table of Contents",
   "title_sidebar": "Contents",
   "toc_cell": false,
   "toc_position": {},
   "toc_section_display": true,
   "toc_window_display": false
  }
 },
 "nbformat": 4,
 "nbformat_minor": 4
}
